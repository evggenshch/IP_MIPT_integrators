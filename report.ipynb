{
 "cells": [
  {
   "cell_type": "code",
   "execution_count": 1,
   "metadata": {},
   "outputs": [],
   "source": [
    "from src.experiment import *"
   ]
  },
  {
   "cell_type": "code",
   "execution_count": 2,
   "metadata": {},
   "outputs": [
    {
     "name": "stderr",
     "output_type": "stream",
     "text": [
      "  0%|          | 0/10 [00:00<?, ?it/s]\n",
      "0it [00:00, ?it/s]\u001B[A\n",
      "1it [00:04,  4.19s/it]\u001B[A\n",
      "2it [00:08,  4.18s/it]\u001B[A\n",
      "3it [00:12,  4.18s/it]\u001B[A\n",
      "4it [00:16,  4.20s/it]\u001B[A\n",
      "5it [00:20,  4.19s/it]\u001B[A\n",
      "6it [00:25,  4.17s/it]\u001B[A\n",
      "7it [00:29,  4.15s/it]\u001B[A\n",
      "8it [00:33,  4.13s/it]\u001B[A\n",
      "9it [00:37,  4.13s/it]\u001B[A\n",
      "10it [00:41,  4.15s/it]\u001B[A\n",
      "/home/evggenshch/SCIENTIFIC WORK/IP_Integrators/IP_MIPT_integrators/src/experiment.py:38: RuntimeWarning: invalid value encountered in true_divide\n",
      "  convergence_rate = np.log10(np.abs((imgs[N - 1] - imgs[N - 2]) / (imgs[N - 2] - imgs[N - 3]))) \\\n",
      "/home/evggenshch/SCIENTIFIC WORK/IP_Integrators/IP_MIPT_integrators/src/experiment.py:39: RuntimeWarning: invalid value encountered in true_divide\n",
      "  / np.log10(np.abs((imgs[N - 2] - imgs[N - 3]) / (imgs[N - 3] - imgs[N - 4])))\n",
      "\n",
      "0it [00:00, ?it/s]\u001B[A\n",
      "1it [00:04,  4.20s/it]\u001B[A\n",
      "2it [00:08,  4.20s/it]\u001B[A\n",
      "3it [00:12,  4.19s/it]\u001B[A\n",
      "4it [00:16,  4.19s/it]\u001B[A\n",
      "5it [00:20,  4.18s/it]\u001B[A\n",
      "6it [00:25,  4.17s/it]\u001B[A\n",
      "7it [00:29,  4.16s/it]\u001B[A\n",
      "8it [00:33,  4.14s/it]\u001B[A\n",
      "9it [00:37,  4.14s/it]\u001B[A\n",
      "10it [00:41,  4.16s/it]\u001B[A\n"
     ]
    },
    {
     "name": "stdout",
     "output_type": "stream",
     "text": [
      "EXPERIMENT #0 CONDUCTING...\n",
      "243\n"
     ]
    },
    {
     "ename": "KeyboardInterrupt",
     "evalue": "",
     "output_type": "error",
     "traceback": [
      "\u001B[0;31m---------------------------------------------------------------------------\u001B[0m",
      "\u001B[0;31mKeyboardInterrupt\u001B[0m                         Traceback (most recent call last)",
      "\u001B[0;32m<ipython-input-2-34d0e18f813f>\u001B[0m in \u001B[0;36m<module>\u001B[0;34m\u001B[0m\n\u001B[1;32m      1\u001B[0m conduct_experiment(\"data/Shoes-sRGB.jpg\", 10,\n\u001B[0;32m----> 2\u001B[0;31m                    \"first_stage\", \"first_stage\", \"first_first\", 10)\n\u001B[0m\u001B[1;32m      3\u001B[0m \u001B[0;31m#conduct_experiment(\"data/Shoes-sRGB.jpg\", videoflow_size=100, )\u001B[0m\u001B[0;34m\u001B[0m\u001B[0;34m\u001B[0m\u001B[0;34m\u001B[0m\u001B[0m\n\u001B[1;32m      4\u001B[0m \u001B[0;31m#conduct_experiment(\"data/Shoes-sRGB.jpg\", videoflow_size=100, )\u001B[0m\u001B[0;34m\u001B[0m\u001B[0;34m\u001B[0m\u001B[0;34m\u001B[0m\u001B[0m\n\u001B[1;32m      5\u001B[0m \u001B[0;31m#conduct_experiment(\"data/Shoes-sRGB.jpg\", videoflow_size=100, )\u001B[0m\u001B[0;34m\u001B[0m\u001B[0;34m\u001B[0m\u001B[0;34m\u001B[0m\u001B[0m\n",
      "\u001B[0;32m~/SCIENTIFIC WORK/IP_Integrators/IP_MIPT_integrators/src/experiment.py\u001B[0m in \u001B[0;36mconduct_experiment\u001B[0;34m(img_path, videoflow_size, stage_augmentation, stage_integration, integrated_imgs_save_base_dir, num_experiments)\u001B[0m\n\u001B[1;32m    102\u001B[0m \u001B[0;34m\u001B[0m\u001B[0m\n\u001B[1;32m    103\u001B[0m         io.imsave(cur_experiment_save_dir + \"/result_img.png\",\n\u001B[0;32m--> 104\u001B[0;31m                   (from_rgb_to_srgb(integrated_imgs[len(integrated_imgs) - 1]) * 255).astype(dtype = np.uint8))\n\u001B[0m\u001B[1;32m    105\u001B[0m \u001B[0;34m\u001B[0m\u001B[0m\n\u001B[1;32m    106\u001B[0m     \u001B[0mconvergence_rates\u001B[0m \u001B[0;34m=\u001B[0m \u001B[0mnp\u001B[0m\u001B[0;34m.\u001B[0m\u001B[0marray\u001B[0m\u001B[0;34m(\u001B[0m\u001B[0mconvergence_rates\u001B[0m\u001B[0;34m)\u001B[0m\u001B[0;34m\u001B[0m\u001B[0;34m\u001B[0m\u001B[0m\n",
      "\u001B[0;32m~/SCIENTIFIC WORK/IP_Integrators/IP_MIPT_integrators/src/utils.py\u001B[0m in \u001B[0;36mfrom_rgb_to_srgb\u001B[0;34m(rgb_img)\u001B[0m\n\u001B[1;32m     30\u001B[0m             \u001B[0;32mfor\u001B[0m \u001B[0mchannel\u001B[0m\u001B[0;34m,\u001B[0m \u001B[0mcur_channel\u001B[0m \u001B[0;32min\u001B[0m \u001B[0menumerate\u001B[0m\u001B[0;34m(\u001B[0m\u001B[0mcur_column\u001B[0m\u001B[0;34m)\u001B[0m\u001B[0;34m:\u001B[0m\u001B[0;34m\u001B[0m\u001B[0;34m\u001B[0m\u001B[0m\n\u001B[1;32m     31\u001B[0m                 \u001B[0mcur_val\u001B[0m \u001B[0;34m=\u001B[0m \u001B[0mnp\u001B[0m\u001B[0;34m.\u001B[0m\u001B[0mfloat32\u001B[0m\u001B[0;34m(\u001B[0m\u001B[0mrgb_img\u001B[0m\u001B[0;34m[\u001B[0m\u001B[0mrow\u001B[0m\u001B[0;34m]\u001B[0m\u001B[0;34m[\u001B[0m\u001B[0mcolumn\u001B[0m\u001B[0;34m]\u001B[0m\u001B[0;34m[\u001B[0m\u001B[0mchannel\u001B[0m\u001B[0;34m]\u001B[0m\u001B[0;34m)\u001B[0m\u001B[0;34m\u001B[0m\u001B[0;34m\u001B[0m\u001B[0m\n\u001B[0;32m---> 32\u001B[0;31m                 srgb_img[row][column][channel] = ((323 * cur_val / 25) if cur_val <= RGB_BORDER else\n\u001B[0m\u001B[1;32m     33\u001B[0m                                                       ((211 * (cur_val ** (5 / 12)) - 11) / 200))\n\u001B[1;32m     34\u001B[0m \u001B[0;34m\u001B[0m\u001B[0m\n",
      "\u001B[0;31mKeyboardInterrupt\u001B[0m: "
     ]
    }
   ],
   "source": [
    "conduct_experiment(\"data/Shoes-sRGB.jpg\", 10,\n",
    "                   \"first_stage\", \"first_stage\", \"first_first\", 10)\n",
    "#conduct_experiment(\"data/Shoes-sRGB.jpg\", videoflow_size=100, )\n",
    "#conduct_experiment(\"data/Shoes-sRGB.jpg\", videoflow_size=100, )\n",
    "#conduct_experiment(\"data/Shoes-sRGB.jpg\", videoflow_size=100, )\n",
    "#conduct_experiment(\"data/Shoes-sRGB.jpg\", videoflow_size=100, )\n",
    "#conduct_experiment(\"data/Shoes-sRGB.jpg\", videoflow_size=100, )\n",
    "\n"
   ]
  }
 ],
 "metadata": {
  "kernelspec": {
   "display_name": "Python 3",
   "language": "python",
   "name": "python3"
  },
  "language_info": {
   "codemirror_mode": {
    "name": "ipython",
    "version": 3
   },
   "file_extension": ".py",
   "mimetype": "text/x-python",
   "name": "python",
   "nbconvert_exporter": "python",
   "pygments_lexer": "ipython3",
   "version": "3.7.6"
  }
 },
 "nbformat": 4,
 "nbformat_minor": 4
}