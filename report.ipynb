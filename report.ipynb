{
 "cells": [
  {
   "cell_type": "code",
   "execution_count": 2,
   "metadata": {},
   "outputs": [],
   "source": [
    "from src.experiment import *"
   ]
  },
  {
   "cell_type": "code",
   "execution_count": null,
   "metadata": {},
   "outputs": [],
   "source": [
    "conduct_experiment(\"data/Shoes-sRGB.jpg\", 100, \n",
    "                   \"first_stage\", \"first_stage\", \"first_first\", 1000)\n",
    "#conduct_experiment(\"data/Shoes-sRGB.jpg\", videoflow_size=100, )\n",
    "#conduct_experiment(\"data/Shoes-sRGB.jpg\", videoflow_size=100, )\n",
    "#conduct_experiment(\"data/Shoes-sRGB.jpg\", videoflow_size=100, )\n",
    "#conduct_experiment(\"data/Shoes-sRGB.jpg\", videoflow_size=100, )\n",
    "#conduct_experiment(\"data/Shoes-sRGB.jpg\", videoflow_size=100, )\n",
    "\n"
   ]
  }
 ],
 "metadata": {
  "kernelspec": {
   "display_name": "Python 3",
   "language": "python",
   "name": "python3"
  },
  "language_info": {
   "codemirror_mode": {
    "name": "ipython",
    "version": 3
   },
   "file_extension": ".py",
   "mimetype": "text/x-python",
   "name": "python",
   "nbconvert_exporter": "python",
   "pygments_lexer": "ipython3",
   "version": "3.7.6"
  },
  "pycharm": {
   "stem_cell": {
    "cell_type": "raw",
    "source": [],
    "metadata": {
     "collapsed": false
    }
   }
  }
 },
 "nbformat": 4,
 "nbformat_minor": 4
}